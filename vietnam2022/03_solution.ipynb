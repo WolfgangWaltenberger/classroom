{
 "cells": [
  {
   "cell_type": "markdown",
   "id": "7a2c5ec0",
   "metadata": {},
   "source": [
    "# Exercise 3: convolutional network to classify hand-written digits (MNIST dataset)"
   ]
  },
  {
   "cell_type": "code",
   "execution_count": 1,
   "id": "b975a29c",
   "metadata": {},
   "outputs": [],
   "source": [
    "import torch \n",
    "import torch.nn as nn\n",
    "import torchvision\n",
    "import torchvision.transforms as transforms\n",
    "import matplotlib.pyplot as plt ## to visualise the data"
   ]
  },
  {
   "cell_type": "code",
   "execution_count": 2,
   "id": "6b7eb145",
   "metadata": {},
   "outputs": [
    {
     "data": {
      "text/plain": [
       "Text(0.5, 1.0, '5')"
      ]
     },
     "execution_count": 2,
     "metadata": {},
     "output_type": "execute_result"
    },
    {
     "data": {
      "image/png": "[encoded data removed]",
      "text/plain": [
       "<Figure size 432x288 with 1 Axes>"
      ]
     },
     "metadata": {
      "needs_background": "light"
     },
     "output_type": "display_data"
    }
   ],
   "source": [
    "# Hyper parameters\n",
    "num_epochs = 5\n",
    "num_classes = 10\n",
    "batch_size = 100\n",
    "learning_rate = 0.001\n",
    "\n",
    "# MNIST dataset\n",
    "train_dataset = torchvision.datasets.MNIST(root='./data/',\n",
    "                                           train=True, \n",
    "                                           transform=transforms.ToTensor(),\n",
    "                                           download=True)\n",
    "\n",
    "## plot the first picture. Change the index to plot others.\n",
    "plt.imshow(train_dataset.data[0].numpy(), cmap='gray')\n",
    "plt.title('%i' % train_dataset.targets[0])"
   ]
  },
  {
   "cell_type": "code",
   "execution_count": 3,
   "id": "feb6dadc",
   "metadata": {},
   "outputs": [],
   "source": [
    "test_dataset = torchvision.datasets.MNIST(root='./data/',\n",
    "                                          train=False, \n",
    "                                          transform=transforms.ToTensor())\n",
    "\n",
    "# Data loader\n",
    "train_loader = torch.utils.data.DataLoader(dataset=train_dataset,\n",
    "                                           batch_size=batch_size, \n",
    "                                           shuffle=True)\n",
    "\n",
    "test_loader = torch.utils.data.DataLoader(dataset=test_dataset,\n",
    "                                          batch_size=batch_size, \n",
    "                                          shuffle=False)"
   ]
  },
  {
   "cell_type": "code",
   "execution_count": 4,
   "id": "3ed4793c",
   "metadata": {},
   "outputs": [],
   "source": [
    "# Convolutional neural network (two convolutional layers)\n",
    "class ConvNet(nn.Module):\n",
    "    def __init__(self, num_classes=10):\n",
    "        ## input is 28*28*1\n",
    "        super(ConvNet, self).__init__()\n",
    "        self.layer1 = nn.Sequential(\n",
    "            nn.Conv2d(1, 16, kernel_size=5, stride=1, padding=2),\n",
    "            nn.BatchNorm2d(16),\n",
    "            nn.ReLU(),\n",
    "            nn.MaxPool2d(kernel_size=2, stride=2))\n",
    "        ### add another layer, it takes the 16 channels of layer1 \n",
    "        ### as input, and returns 32 channels as output. Play with\n",
    "        ### batch normalization, try ReLU's, and perform pooling.\n",
    "        self.layer2 = nn.Sequential(nn.Conv2d(16, 32, kernel_size=5, stride=1, padding=2),\n",
    "            nn.BatchNorm2d(32), nn.ReLU(), nn.MaxPool2d(kernel_size=2, stride=2))\n",
    "        ### input. Adapt the numbers.\n",
    "        self.fc = nn.Linear(7*7*32, num_classes)\n",
    "        \n",
    "    def forward(self, x):\n",
    "        out = self.layer1(x)\n",
    "        out = self.layer2(out)\n",
    "        ## dont forget to add second layer here\n",
    "        # sometimes tensors have to be recast from one \"shape\" to \n",
    "        # another. Have a look at the \".shape\", \".reshape\", and \".view\"\n",
    "        # methods of tensors.\n",
    "        out = out.reshape(out.size(0), -1)\n",
    "        out = self.fc(out)\n",
    "        return out\n"
   ]
  },
  {
   "cell_type": "code",
   "execution_count": 5,
   "id": "f0e80416",
   "metadata": {},
   "outputs": [],
   "source": [
    "model = ConvNet(num_classes)"
   ]
  },
  {
   "cell_type": "code",
   "execution_count": 6,
   "id": "867d6d74",
   "metadata": {},
   "outputs": [],
   "source": [
    "# Loss and optimizer\n",
    "criterion = nn.CrossEntropyLoss()\n",
    "optimizer = torch.optim.Adam(model.parameters(), lr=learning_rate)"
   ]
  },
  {
   "cell_type": "code",
   "execution_count": 7,
   "id": "c67af937",
   "metadata": {},
   "outputs": [
    {
     "name": "stdout",
     "output_type": "stream",
     "text": [
      "Epoch [1/5], Step [100/600], Loss: 0.2332\n",
      "Epoch [1/5], Step [200/600], Loss: 0.1501\n",
      "Epoch [1/5], Step [300/600], Loss: 0.0599\n",
      "Epoch [1/5], Step [400/600], Loss: 0.0838\n",
      "Epoch [1/5], Step [500/600], Loss: 0.0616\n",
      "Epoch [1/5], Step [600/600], Loss: 0.0785\n",
      "Epoch [2/5], Step [100/600], Loss: 0.0874\n",
      "Epoch [2/5], Step [200/600], Loss: 0.0596\n",
      "Epoch [2/5], Step [300/600], Loss: 0.0508\n",
      "Epoch [2/5], Step [400/600], Loss: 0.0935\n",
      "Epoch [2/5], Step [500/600], Loss: 0.0391\n",
      "Epoch [2/5], Step [600/600], Loss: 0.0255\n",
      "Epoch [3/5], Step [100/600], Loss: 0.0075\n",
      "Epoch [3/5], Step [200/600], Loss: 0.0341\n",
      "Epoch [3/5], Step [300/600], Loss: 0.0327\n",
      "Epoch [3/5], Step [400/600], Loss: 0.0084\n",
      "Epoch [3/5], Step [500/600], Loss: 0.0113\n",
      "Epoch [3/5], Step [600/600], Loss: 0.0348\n",
      "Epoch [4/5], Step [100/600], Loss: 0.0491\n",
      "Epoch [4/5], Step [200/600], Loss: 0.0094\n",
      "Epoch [4/5], Step [300/600], Loss: 0.0092\n",
      "Epoch [4/5], Step [400/600], Loss: 0.0797\n",
      "Epoch [4/5], Step [500/600], Loss: 0.0106\n",
      "Epoch [4/5], Step [600/600], Loss: 0.0366\n",
      "Epoch [5/5], Step [100/600], Loss: 0.0370\n",
      "Epoch [5/5], Step [200/600], Loss: 0.0052\n",
      "Epoch [5/5], Step [300/600], Loss: 0.0232\n",
      "Epoch [5/5], Step [400/600], Loss: 0.0541\n",
      "Epoch [5/5], Step [500/600], Loss: 0.0111\n",
      "Epoch [5/5], Step [600/600], Loss: 0.0092\n"
     ]
    }
   ],
   "source": [
    "# Train the model\n",
    "total_step = len(train_loader)\n",
    "for epoch in range(num_epochs):\n",
    "    for i, (images, labels) in enumerate(train_loader):\n",
    "        images = images\n",
    "        labels = labels\n",
    "        \n",
    "        # Forward pass\n",
    "        outputs = model(images)\n",
    "        loss = criterion(outputs, labels)\n",
    "        \n",
    "        # Backward and optimize\n",
    "        optimizer.zero_grad()\n",
    "        loss.backward()\n",
    "        optimizer.step()\n",
    "        \n",
    "        if (i+1) % 100 == 0:\n",
    "            print ('Epoch [{}/{}], Step [{}/{}], Loss: {:.4f}' \n",
    "                   .format(epoch+1, num_epochs, i+1, total_step, loss.item()))"
   ]
  },
  {
   "cell_type": "code",
   "execution_count": 8,
   "id": "5e3773dc",
   "metadata": {},
   "outputs": [
    {
     "name": "stdout",
     "output_type": "stream",
     "text": [
      "Test Accuracy of the model on the 10000 test images: 98.55 %\n"
     ]
    }
   ],
   "source": [
    "# Test the model\n",
    "model.eval()  # eval mode (batchnorm uses moving mean/variance instead of mini-batch mean/variance)\n",
    "with torch.no_grad():\n",
    "    correct = 0\n",
    "    total = 0\n",
    "    for images, labels in test_loader:\n",
    "        images = images\n",
    "        labels = labels\n",
    "        outputs = model(images)\n",
    "        _, predicted = torch.max(outputs.data, 1)\n",
    "        total += labels.size(0)\n",
    "        correct += (predicted == labels).sum().item()\n",
    "\n",
    "    print('Test Accuracy of the model on the 10000 test images: {} %'.format(100 * correct / total))\n",
    "\n",
    "# Save the model checkpoint\n",
    "# torch.save(model.state_dict(), '03_cnn.ckpt')"
   ]
  }
 ],
 "metadata": {
  "kernelspec": {
   "display_name": "Python 3 (ipykernel)",
   "language": "python",
   "name": "python3"
  },
  "language_info": {
   "codemirror_mode": {
    "name": "ipython",
    "version": 3
   },
   "file_extension": ".py",
   "mimetype": "text/x-python",
   "name": "python",
   "nbconvert_exporter": "python",
   "pygments_lexer": "ipython3",
   "version": "3.10.4"
  }
 },
 "nbformat": 4,
 "nbformat_minor": 5
}
