{
 "cells": [
  {
   "cell_type": "markdown",
   "id": "70ca2c87",
   "metadata": {},
   "source": [
    "# Exercise 2: Multi-layer perceptron in two dimensions."
   ]
  },
  {
   "cell_type": "code",
   "execution_count": 1,
   "id": "ea337ed0",
   "metadata": {},
   "outputs": [],
   "source": [
    "import numpy as np\n",
    "import torch\n",
    "from torch.autograd import Variable"
   ]
  },
  {
   "cell_type": "code",
   "execution_count": 2,
   "id": "f75a84a6",
   "metadata": {},
   "outputs": [],
   "source": [
    "# fetch the data from github (might not be needed)\n",
    "!test -e 02_mlp.p || wget https://github.com/WolfgangWaltenberger/vietnam2022/raw/main/02_mlp.p"
   ]
  },
  {
   "cell_type": "code",
   "execution_count": 3,
   "id": "ec671884",
   "metadata": {},
   "outputs": [],
   "source": [
    "x_data, y_data = torch.load ( \"02_mlp.p\" )"
   ]
  },
  {
   "cell_type": "code",
   "execution_count": 4,
   "id": "41338b2b",
   "metadata": {},
   "outputs": [],
   "source": [
    "class Model(torch.nn.Module):\n",
    "    def __init__(self):\n",
    "        super(Model, self).__init__()\n",
    "        self.linear1 = torch.nn.Linear(2, 10) # 2 in and 1 out\n",
    "        self.relu = torch.nn.ReLU()\n",
    "        self.linear2 = torch.nn.Linear(10, 1)\n",
    "        \n",
    "    def forward(self, x):\n",
    "        ## start with a linear layer, e.g. 2x10,\n",
    "        ## apply an activation function\n",
    "        ## then another linear layer with a single\n",
    "        ## output node, then e.g. a sigmoid to \"normalize\" the output\n",
    "        out1 = self.linear1(x)\n",
    "        act1 = self.relu ( out1 )\n",
    "        out2 = self.linear2 ( act1 )\n",
    "        y_pred = torch.sigmoid( out2 )\n",
    "        return y_pred"
   ]
  },
  {
   "cell_type": "code",
   "execution_count": 5,
   "id": "fe8b6ea8",
   "metadata": {},
   "outputs": [],
   "source": [
    "# Our model    \n",
    "model = Model()"
   ]
  },
  {
   "cell_type": "code",
   "execution_count": 6,
   "id": "0a138386",
   "metadata": {},
   "outputs": [],
   "source": [
    "## again, define your loss function (e.g. BCELoss) and your learning method (Adam)\n",
    "criterion = torch.nn.BCELoss(reduction='mean')\n",
    "adam = torch.optim.Adam(model.parameters(), lr=0.003)\n"
   ]
  },
  {
   "cell_type": "code",
   "execution_count": 7,
   "id": "c48d3223",
   "metadata": {},
   "outputs": [
    {
     "name": "stdout",
     "output_type": "stream",
     "text": [
      "epoch 0\n",
      "epoch 100\n",
      "epoch 200\n",
      "epoch 300\n",
      "epoch 400\n",
      "epoch 500\n",
      "epoch 600\n",
      "epoch 700\n",
      "epoch 800\n",
      "epoch 900\n"
     ]
    }
   ],
   "source": [
    "# Training loop\n",
    "for epoch in range(1000):\n",
    "    # Forward pass: Compute predicted y by passing x to the model\n",
    "    if epoch % 100 == 0:\n",
    "        print ( \"epoch %d\" % epoch )\n",
    "    y_pred = model(x_data)\n",
    "    \n",
    "    # Compute and print loss\n",
    "    loss = criterion(y_pred, y_data)\n",
    "    \n",
    "    # Zero gradients, perform a backward pass, and update the weights.\n",
    "    adam.zero_grad()\n",
    "    loss.backward()\n",
    "    adam.step()"
   ]
  },
  {
   "cell_type": "code",
   "execution_count": 8,
   "id": "9b243e01",
   "metadata": {},
   "outputs": [
    {
     "name": "stdout",
     "output_type": "stream",
     "text": [
      "Accuracy of the model on the 100 test points: 100.00 %\n"
     ]
    }
   ],
   "source": [
    "## check how correct you are (on the training data)\n",
    "correct, total = 0, len(x_data)\n",
    "for data, label in zip ( x_data, y_data ):\n",
    "    output = model(data)\n",
    "    predicted = int(output.data[0] > .5)\n",
    "    label = int ( label )\n",
    "    correct += (predicted == label)\n",
    "\n",
    "print('Accuracy of the model on the %d test points: %.2f %%' % ( total, 100. * correct / total))"
   ]
  },
  {
   "cell_type": "code",
   "execution_count": null,
   "id": "087de712",
   "metadata": {},
   "outputs": [],
   "source": []
  }
 ],
 "metadata": {
  "kernelspec": {
   "display_name": "Python 3 (ipykernel)",
   "language": "python",
   "name": "python3"
  },
  "language_info": {
   "codemirror_mode": {
    "name": "ipython",
    "version": 3
   },
   "file_extension": ".py",
   "mimetype": "text/x-python",
   "name": "python",
   "nbconvert_exporter": "python",
   "pygments_lexer": "ipython3",
   "version": "3.10.4"
  }
 },
 "nbformat": 4,
 "nbformat_minor": 5
}
