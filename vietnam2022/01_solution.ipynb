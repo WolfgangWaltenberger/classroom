{
 "cells": [
  {
   "cell_type": "markdown",
   "id": "de699010",
   "metadata": {},
   "source": [
    "# Exercise #1: logistic regression in two dimensions. skeleton code."
   ]
  },
  {
   "cell_type": "code",
   "execution_count": 1,
   "id": "58f5af8c",
   "metadata": {},
   "outputs": [],
   "source": [
    "import numpy as np\n",
    "import torch"
   ]
  },
  {
   "cell_type": "code",
   "execution_count": 2,
   "id": "59271abf",
   "metadata": {},
   "outputs": [],
   "source": [
    "# fetch the data from github (might not be needed)\n",
    "!test -e 01_logit.p || wget https://github.com/WolfgangWaltenberger/vietnam2022/raw/main/01_logit.p"
   ]
  },
  {
   "cell_type": "code",
   "execution_count": 3,
   "id": "62bf639d",
   "metadata": {},
   "outputs": [],
   "source": [
    "## load the 2d data (x_data), with the labels (y_data).\n",
    "## the labels are {0,1}.\n",
    "x_data, y_data = torch.load ( \"01_logit.p\" )"
   ]
  },
  {
   "cell_type": "code",
   "execution_count": 4,
   "id": "b134515c",
   "metadata": {},
   "outputs": [],
   "source": [
    "## now define your neural network.\n",
    "class Model(torch.nn.Module):\n",
    "    def __init__(self):\n",
    "        super(Model, self).__init__()\n",
    "        self.linear = torch.nn.Linear(2, 1) # 2 in and 1 out\n",
    "        \n",
    "    def forward(self, x):\n",
    "        ## the forward pass must consist of a \n",
    "        ## sigmoidal function (F.sigmoid), applied to \n",
    "        ## a linear layer ( torch.nn.Linear ), that takes\n",
    "        ## x as its input.\n",
    "        y_pred = torch.sigmoid(self.linear(x))\n",
    "        return y_pred"
   ]
  },
  {
   "cell_type": "code",
   "execution_count": 5,
   "id": "92663cd5",
   "metadata": {},
   "outputs": [],
   "source": [
    "# Instantiate the model\n",
    "model = Model()"
   ]
  },
  {
   "cell_type": "code",
   "execution_count": 6,
   "id": "77c46649",
   "metadata": {},
   "outputs": [],
   "source": [
    "## define your loss function (e.g. torch.nn.BCELoss)\n",
    "criterion = torch.nn.BCELoss(reduction=\"mean\")"
   ]
  },
  {
   "cell_type": "code",
   "execution_count": 7,
   "id": "55b0e2f7",
   "metadata": {},
   "outputs": [],
   "source": [
    "## choose an optimizer (torch.optim.Adam, torch.optim.SGD, ... )\n",
    "## it takes model.parameters() as input. Choose a learning rate.\n",
    "optimizer = torch.optim.Adam(model.parameters(), lr=0.001)"
   ]
  },
  {
   "cell_type": "code",
   "execution_count": 8,
   "id": "6ce168b0",
   "metadata": {},
   "outputs": [
    {
     "name": "stdout",
     "output_type": "stream",
     "text": [
      "0 0.5874350666999817\n",
      "10 0.5699349045753479\n",
      "20 0.553102433681488\n",
      "30 0.5369963049888611\n",
      "40 0.5216419100761414\n",
      "50 0.5070376396179199\n",
      "60 0.49316486716270447\n",
      "70 0.4799956977367401\n",
      "80 0.467498242855072\n",
      "90 0.4556393027305603\n",
      "data is tensor([[0.1707, 0.1938]]) gradient is tensor([[-0.5812, -0.5741]])\n",
      "data is tensor([-0.5925]) gradient is tensor([-0.1170])\n",
      "Final gradient descent, adam: [[0.17065188 0.19384325]] [-0.5925271]\n"
     ]
    }
   ],
   "source": [
    "# Training loop\n",
    "for epoch in range(100):\n",
    "    # Forward pass: Compute predicted y by passing x_data to the model\n",
    "    y_pred = model(x_data)\n",
    "    \n",
    "    # Compute and print loss\n",
    "    loss = criterion(y_pred, y_data)\n",
    "    if epoch % 10 == 0:\n",
    "        print ( epoch, loss.data.item() )\n",
    "    \n",
    "    # Reset gradient, perform a backward pass, and update the weights.\n",
    "    optimizer.zero_grad()\n",
    "    loss.backward()\n",
    "    optimizer.step()\n",
    "\n",
    "## print the result\n",
    "for f in model.parameters():\n",
    "    print('data is', f.data, 'gradient is', f.grad )\n",
    "\n",
    "## obtain the learned weights\n",
    "w = list(model.parameters())\n",
    "w0 = w[0].data.numpy()\n",
    "w1 = w[1].data.numpy()\n",
    "\n",
    "print ( \"Final gradient descent, adam:\", w0, w1 )"
   ]
  },
  {
   "cell_type": "code",
   "execution_count": 9,
   "id": "fb9e412a",
   "metadata": {},
   "outputs": [],
   "source": [
    "## plot the data and decision boundary\n",
    "import matplotlib\n",
    "import matplotlib.pyplot as plt"
   ]
  },
  {
   "cell_type": "code",
   "execution_count": 10,
   "id": "f61474a4",
   "metadata": {},
   "outputs": [
    {
     "data": {
      "image/png": "[encoded data removed]",
      "text/plain": [
       "<Figure size 432x288 with 1 Axes>"
      ]
     },
     "metadata": {
      "needs_background": "light"
     },
     "output_type": "display_data"
    }
   ],
   "source": [
    "## plot the data and decision boundary\n",
    "plt.scatter(x_data[:,0][:10], x_data[:,1][:10], c=y_data.reshape(100)[:10], s=100, alpha=0.5)\n",
    "x_axis = np.linspace(-6, 6, 100)\n",
    "y_axis = -(w1[0] + x_axis*w0[0][0]) / w0[0][1]\n",
    "line_up, = plt.plot(x_axis, y_axis,'r--', label='decision boundary')\n",
    "plt.legend(handles=[line_up])\n",
    "plt.xlabel('$x_1$')\n",
    "plt.ylabel('$x_2$')\n",
    "#plt.show()\n",
    "plt.savefig ( \"01_logit.png\" )"
   ]
  },
  {
   "cell_type": "code",
   "execution_count": null,
   "id": "3c3f6a98",
   "metadata": {},
   "outputs": [
    {
     "data": {
      "text/plain": [
       "<matplotlib.collections.PathCollection at 0x7f86b3ae1a20>"
      ]
     },
     "execution_count": 13,
     "metadata": {},
     "output_type": "execute_result"
    }
   ],
   "source": [
    "plt.scatter(x_data[:,0][50:], x_data[:,1][50:], c=y_data.reshape(100)[50:], s=100, alpha=0.5)"
   ]
  },
  {
   "cell_type": "code",
   "execution_count": null,
   "id": "3c20dcea",
   "metadata": {},
   "outputs": [],
   "source": []
  }
 ],
 "metadata": {
  "kernelspec": {
   "display_name": "Python 3 (ipykernel)",
   "language": "python",
   "name": "python3"
  },
  "language_info": {
   "codemirror_mode": {
    "name": "ipython",
    "version": 3
   },
   "file_extension": ".py",
   "mimetype": "text/x-python",
   "name": "python",
   "nbconvert_exporter": "python",
   "pygments_lexer": "ipython3",
   "version": "3.10.4"
  }
 },
 "nbformat": 4,
 "nbformat_minor": 5
}
